{
 "cells": [
  {
   "cell_type": "markdown",
   "id": "e89a6119",
   "metadata": {},
   "source": [
    "#### You are creating a fantasy video game. The data structure to model the player’s inventory will be a dictionary where the keys are string values describing the item in the inventory and the value is an integer value detailing how many of that item the player has. You need to write an inventory function as well as looting function that shows the inventory after certain enemy"
   ]
  },
  {
   "cell_type": "code",
   "execution_count": 1,
   "id": "08a6bbea",
   "metadata": {},
   "outputs": [],
   "source": [
    "# Defining the function\n",
    "def showinventory(inventory):\n",
    "    print(\"Your Inventory\")\n",
    "    total=0\n",
    "    for k, v in inventory.items():\n",
    "        print(str(v)+ ' ' + k)\n",
    "        total+=v\n",
    "    print(\"Number of items are\",str(total))"
   ]
  },
  {
   "cell_type": "code",
   "execution_count": 2,
   "id": "a44ec65c",
   "metadata": {},
   "outputs": [],
   "source": [
    "# your current inventory is\n",
    "items={\"Weapons\":5,'Healing Potion':10, \"Scrolls\":1}"
   ]
  },
  {
   "cell_type": "code",
   "execution_count": 3,
   "id": "915b9665",
   "metadata": {},
   "outputs": [
    {
     "name": "stdout",
     "output_type": "stream",
     "text": [
      "Your Inventory\n",
      "5 Weapons\n",
      "10 Healing Potion\n",
      "1 Scrolls\n",
      "Number of items are 16\n"
     ]
    }
   ],
   "source": [
    "showinventory(items)"
   ]
  },
  {
   "cell_type": "code",
   "execution_count": 4,
   "id": "32f48c85",
   "metadata": {},
   "outputs": [],
   "source": [
    "# Now you have defeated an enemy and take its loot\n",
    "def addtoinventory(inventory, loot):\n",
    "    total=0\n",
    "    print('Your Loot')\n",
    "    for items in loot: #loot is a list\n",
    "        print(items)\n",
    "        inventory.setdefault(items,0) # if the loot is not in dic, we add it as a key\n",
    "        inventory[items]+=1 # if we didnt have the item, we have one now. If we had it, we add another to it.\n",
    "    for k, v in inventory.items():\n",
    "        total+=v\n",
    "    print(\"your inventory after looting is \", inventory)\n",
    "    print(\"Number of items are\",str(total))"
   ]
  },
  {
   "cell_type": "code",
   "execution_count": 5,
   "id": "ecd44041",
   "metadata": {},
   "outputs": [],
   "source": [
    "loot=[\"Weapons\",\"Scrolls\",\"Coins\"]"
   ]
  },
  {
   "cell_type": "code",
   "execution_count": 6,
   "id": "d0f977fb",
   "metadata": {},
   "outputs": [
    {
     "name": "stdout",
     "output_type": "stream",
     "text": [
      "Your Loot\n",
      "Weapons\n",
      "Scrolls\n",
      "Coins\n",
      "your inventory after looting is  {'Weapons': 6, 'Healing Potion': 10, 'Scrolls': 2, 'Coins': 1}\n",
      "Number of items are 19\n"
     ]
    }
   ],
   "source": [
    "addtoinventory(items,loot)"
   ]
  },
  {
   "cell_type": "code",
   "execution_count": 7,
   "id": "042969e1",
   "metadata": {},
   "outputs": [
    {
     "name": "stdout",
     "output_type": "stream",
     "text": [
      "Your Loot\n",
      "Coins\n",
      "Coins\n",
      "Letter\n",
      "your inventory after looting is  {'Weapons': 6, 'Healing Potion': 10, 'Scrolls': 2, 'Coins': 3, 'Letter': 1}\n",
      "Number of items are 22\n"
     ]
    }
   ],
   "source": [
    "loot2=['Coins','Coins','Letter']\n",
    "addtoinventory(items,loot2)"
   ]
  }
 ],
 "metadata": {
  "kernelspec": {
   "display_name": "Python 3 (ipykernel)",
   "language": "python",
   "name": "python3"
  },
  "language_info": {
   "codemirror_mode": {
    "name": "ipython",
    "version": 3
   },
   "file_extension": ".py",
   "mimetype": "text/x-python",
   "name": "python",
   "nbconvert_exporter": "python",
   "pygments_lexer": "ipython3",
   "version": "3.9.7"
  }
 },
 "nbformat": 4,
 "nbformat_minor": 5
}
