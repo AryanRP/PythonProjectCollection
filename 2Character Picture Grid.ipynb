{
 "cells": [
  {
   "cell_type": "markdown",
   "id": "2ada77e8",
   "metadata": {},
   "source": [
    "# Character Picture Grid\n",
    "### Say you have a list of lists where each value in the inner lists is a one-character string, like this:"
   ]
  },
  {
   "cell_type": "code",
   "execution_count": 2,
   "id": "a9ab98e8",
   "metadata": {},
   "outputs": [],
   "source": [
    "grid = [['.', '.', '.', '.', '.', '.'],\n",
    "        ['.', 'O', 'O', '.', '.', '.'],\n",
    "        ['O', 'O', 'O', 'O', '.', '.'],\n",
    "        ['O', 'O', 'O', 'O', 'O', '.'],\n",
    "        ['.', 'O', 'O', 'O', 'O', 'O'],\n",
    "        ['O', 'O', 'O', 'O', 'O', '.'],\n",
    "        ['O', 'O', 'O', 'O', '.', '.'],\n",
    "        ['.', 'O', 'O', '.', '.', '.'],\n",
    "        ['.', '.', '.', '.', '.', '.']]"
   ]
  },
  {
   "cell_type": "markdown",
   "id": "102721df",
   "metadata": {},
   "source": [
    "### You can think of grid[x][y] as being the character at the x- and \n",
    "### y- coordinates of a “picture” drawn with text characters. The (0, 0) origin will be in the upper-left corner, the x-coordinates increase going right, and w the y-coordinates increase going down.\n",
    "### Copy the previous grid value, and write code that uses it to print the image which is the tanspose of the matrix."
   ]
  },
  {
   "cell_type": "code",
   "execution_count": 11,
   "id": "4379ddf4",
   "metadata": {},
   "outputs": [
    {
     "name": "stdout",
     "output_type": "stream",
     "text": [
      "..OO.OO...OOOOOOO..OOOOOOO...OOOOO.....OOO.......O...."
     ]
    }
   ],
   "source": [
    "#we need to print out the columns as rows\n",
    "# we have  columns and 9 rows, i will count the columns\n",
    "for i in range(6):\n",
    "    #with the column index locked, we can print out the elements of the column in rows\n",
    "    for a in range(9):\n",
    "        # we print the first 8 elements consecutively, then for the last element remove the end to jump to the next line\n",
    "        if a < 8:\n",
    "            print(grid[a][i], end='')\n",
    "        else:\n",
    "            print(grid[a][i])"
   ]
  },
  {
   "cell_type": "code",
   "execution_count": 10,
   "id": "f46d1035",
   "metadata": {},
   "outputs": [
    {
     "name": "stdout",
     "output_type": "stream",
     "text": [
      "..OO.OO..\n",
      ".OOOOOOO.\n",
      ".OOOOOOO.\n",
      "..OOOOO..\n",
      "...OOO...\n",
      "....O....\n"
     ]
    }
   ],
   "source": [
    "#more advanced solution\n",
    "for column in zip(*grid):\n",
    "    print(''.join(column))"
   ]
  },
  {
   "cell_type": "code",
   "execution_count": 18,
   "id": "a54446fa",
   "metadata": {},
   "outputs": [
    {
     "name": "stdout",
     "output_type": "stream",
     "text": [
      "0 1 2 3 4 5 6 7 8 9\n",
      "10 11 12 13 14 "
     ]
    }
   ],
   "source": [
    "#demonstrating how for loop works\n",
    "for i in range(15):\n",
    "    if i<9:\n",
    "        print(str(i) +' ', end='')\n",
    "    elif i==9:\n",
    "        print(i)\n",
    "    else:\n",
    "        print(str(i)+' ', end=\"\")"
   ]
  },
  {
   "cell_type": "code",
   "execution_count": null,
   "id": "3564f8fe",
   "metadata": {},
   "outputs": [],
   "source": []
  }
 ],
 "metadata": {
  "kernelspec": {
   "display_name": "Python 3 (ipykernel)",
   "language": "python",
   "name": "python3"
  },
  "language_info": {
   "codemirror_mode": {
    "name": "ipython",
    "version": 3
   },
   "file_extension": ".py",
   "mimetype": "text/x-python",
   "name": "python",
   "nbconvert_exporter": "python",
   "pygments_lexer": "ipython3",
   "version": "3.9.7"
  }
 },
 "nbformat": 4,
 "nbformat_minor": 5
}
