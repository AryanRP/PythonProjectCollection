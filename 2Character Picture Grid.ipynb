{
 "cells": [
  {
   "cell_type": "markdown",
   "id": "2ada77e8",
   "metadata": {},
   "source": [
    "# Character Picture Grid\n",
    "### Say you have a list of lists where each value in the inner lists is a one-character string, like this:"
   ]
  },
  {
   "cell_type": "code",
   "execution_count": 1,
   "id": "a9ab98e8",
   "metadata": {},
   "outputs": [],
   "source": [
    "grid = [['.', '.', '.', '.', '.', '.'],\n",
    "        ['.', 'O', 'O', '.', '.', '.'],\n",
    "        ['O', 'O', 'O', 'O', '.', '.'],\n",
    "        ['O', 'O', 'O', 'O', 'O', '.'],\n",
    "        ['.', 'O', 'O', 'O', 'O', 'O'],\n",
    "        ['O', 'O', 'O', 'O', 'O', '.'],\n",
    "        ['O', 'O', 'O', 'O', '.', '.'],\n",
    "        ['.', 'O', 'O', '.', '.', '.'],\n",
    "        ['.', '.', '.', '.', '.', '.']]"
   ]
  },
  {
   "cell_type": "markdown",
   "id": "102721df",
   "metadata": {},
   "source": [
    "### You can think of grid[x][y] as being the character at the x- and \n",
    "### y- coordinates of a “picture” drawn with text characters. The (0, 0) origin will be in the upper-left corner, the x-coordinates increase going right, and w the y-coordinates increase going down.\n",
    "### Copy the previous grid value, and write code that uses it to print the image which is the tanspose of the matrix."
   ]
  },
  {
   "cell_type": "code",
   "execution_count": 10,
   "id": "4379ddf4",
   "metadata": {},
   "outputs": [
    {
     "data": {
      "text/plain": [
       "array([['.', '.', '.', '.', '.', '.'],\n",
       "       ['.', 'O', 'O', '.', '.', '.'],\n",
       "       ['O', 'O', 'O', 'O', '.', '.'],\n",
       "       ['O', 'O', 'O', 'O', 'O', '.'],\n",
       "       ['.', 'O', 'O', 'O', 'O', 'O'],\n",
       "       ['O', 'O', 'O', 'O', 'O', '.'],\n",
       "       ['O', 'O', 'O', 'O', '.', '.'],\n",
       "       ['.', 'O', 'O', '.', '.', '.'],\n",
       "       ['.', '.', '.', '.', '.', '.']], dtype='<U1')"
      ]
     },
     "execution_count": 10,
     "metadata": {},
     "output_type": "execute_result"
    }
   ],
   "source": [
    "import numpy\n",
    "arr = numpy.array(grid)\n",
    "arr"
   ]
  },
  {
   "cell_type": "code",
   "execution_count": 11,
   "id": "813f129d",
   "metadata": {},
   "outputs": [],
   "source": [
    "gridT=numpy.transpose(arr)"
   ]
  },
  {
   "cell_type": "code",
   "execution_count": 12,
   "id": "9e062ac7",
   "metadata": {},
   "outputs": [
    {
     "data": {
      "text/plain": [
       "array([['.', '.', 'O', 'O', '.', 'O', 'O', '.', '.'],\n",
       "       ['.', 'O', 'O', 'O', 'O', 'O', 'O', 'O', '.'],\n",
       "       ['.', 'O', 'O', 'O', 'O', 'O', 'O', 'O', '.'],\n",
       "       ['.', '.', 'O', 'O', 'O', 'O', 'O', '.', '.'],\n",
       "       ['.', '.', '.', 'O', 'O', 'O', '.', '.', '.'],\n",
       "       ['.', '.', '.', '.', 'O', '.', '.', '.', '.']], dtype='<U1')"
      ]
     },
     "execution_count": 12,
     "metadata": {},
     "output_type": "execute_result"
    }
   ],
   "source": [
    "gridT"
   ]
  },
  {
   "cell_type": "code",
   "execution_count": null,
   "id": "b698e810",
   "metadata": {},
   "outputs": [],
   "source": []
  }
 ],
 "metadata": {
  "kernelspec": {
   "display_name": "Python 3 (ipykernel)",
   "language": "python",
   "name": "python3"
  },
  "language_info": {
   "codemirror_mode": {
    "name": "ipython",
    "version": 3
   },
   "file_extension": ".py",
   "mimetype": "text/x-python",
   "name": "python",
   "nbconvert_exporter": "python",
   "pygments_lexer": "ipython3",
   "version": "3.9.7"
  }
 },
 "nbformat": 4,
 "nbformat_minor": 5
}
