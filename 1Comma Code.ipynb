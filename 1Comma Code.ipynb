{
 "cells": [
  {
   "cell_type": "markdown",
   "id": "7b32d526",
   "metadata": {},
   "source": [
    "### Lets say you have the list --> spam=['apples','bannas','tofu','cats']"
   ]
  },
  {
   "cell_type": "markdown",
   "id": "4da60483",
   "metadata": {},
   "source": [
    "### Write a function that takes a list value as an argument and returns a string with all the items separated by a comma and a space, with and inserted before the last item. For example, passing the previous spam list to the function would return 'apples, bananas, tofu, and cats'. But your function should be able to work with any list value passed to it."
   ]
  },
  {
   "cell_type": "code",
   "execution_count": 1,
   "id": "4aa3ed96",
   "metadata": {},
   "outputs": [],
   "source": [
    "spam = ['apples', 'bananas', 'tofu', 'cats']"
   ]
  },
  {
   "cell_type": "code",
   "execution_count": 29,
   "id": "37ea9009",
   "metadata": {},
   "outputs": [],
   "source": [
    "def comma(spam) :\n",
    "    P=\"\"\n",
    "    for i in range(len(spam)):\n",
    "        if i==len(spam)-2:\n",
    "            P+= spam[i] + ', and '\n",
    "            continue\n",
    "        if i==len(spam)-1:\n",
    "            P+= spam[i] + '.'\n",
    "            break\n",
    "        P+= spam[i] + ', '\n",
    "    return P\n",
    "        "
   ]
  },
  {
   "cell_type": "code",
   "execution_count": 30,
   "id": "3a99c575",
   "metadata": {},
   "outputs": [
    {
     "data": {
      "text/plain": [
       "'apples, bananas, tofu, and cats.'"
      ]
     },
     "execution_count": 30,
     "metadata": {},
     "output_type": "execute_result"
    }
   ],
   "source": [
    "comma(spam)"
   ]
  },
  {
   "cell_type": "code",
   "execution_count": 31,
   "id": "abf67af4",
   "metadata": {},
   "outputs": [],
   "source": [
    "spam = ['apples', 'bananas', 'tofu', 'cats','dogs','oranges','cake']"
   ]
  },
  {
   "cell_type": "code",
   "execution_count": 32,
   "id": "b281d76d",
   "metadata": {},
   "outputs": [
    {
     "data": {
      "text/plain": [
       "'apples, bananas, tofu, cats, dogs, oranges, and cake.'"
      ]
     },
     "execution_count": 32,
     "metadata": {},
     "output_type": "execute_result"
    }
   ],
   "source": [
    "comma(spam)"
   ]
  },
  {
   "cell_type": "code",
   "execution_count": null,
   "id": "98d451c0",
   "metadata": {},
   "outputs": [],
   "source": []
  }
 ],
 "metadata": {
  "kernelspec": {
   "display_name": "Python 3 (ipykernel)",
   "language": "python",
   "name": "python3"
  },
  "language_info": {
   "codemirror_mode": {
    "name": "ipython",
    "version": 3
   },
   "file_extension": ".py",
   "mimetype": "text/x-python",
   "name": "python",
   "nbconvert_exporter": "python",
   "pygments_lexer": "ipython3",
   "version": "3.9.7"
  }
 },
 "nbformat": 4,
 "nbformat_minor": 5
}
