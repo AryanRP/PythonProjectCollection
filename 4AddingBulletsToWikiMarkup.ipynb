{
 "cells": [
  {
   "cell_type": "markdown",
   "id": "eb86e485",
   "metadata": {},
   "source": [
    "### Copy Several lines, add bullet points and return them."
   ]
  },
  {
   "cell_type": "code",
   "execution_count": 4,
   "id": "1a982367",
   "metadata": {},
   "outputs": [],
   "source": [
    "import pyperclip\n",
    "text=pyperclip.paste()\n",
    "# to seperate the lines and add the stars\n",
    "lines= text.split('\\n')\n",
    "for i in range(len(lines)):\n",
    "    lines[i]='• ' + lines[i]\n",
    "text='\\n'.join(lines)\n",
    "pyperclip.copy(text)"
   ]
  },
  {
   "cell_type": "code",
   "execution_count": null,
   "id": "c643ede2",
   "metadata": {},
   "outputs": [],
   "source": []
  }
 ],
 "metadata": {
  "kernelspec": {
   "display_name": "Python 3 (ipykernel)",
   "language": "python",
   "name": "python3"
  },
  "language_info": {
   "codemirror_mode": {
    "name": "ipython",
    "version": 3
   },
   "file_extension": ".py",
   "mimetype": "text/x-python",
   "name": "python",
   "nbconvert_exporter": "python",
   "pygments_lexer": "ipython3",
   "version": "3.9.12"
  }
 },
 "nbformat": 4,
 "nbformat_minor": 5
}
